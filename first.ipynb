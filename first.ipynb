{
 "cells": [
  {
   "cell_type": "code",
   "id": "initial_id",
   "metadata": {
    "collapsed": true
   },
   "source": [
    "import numpy as np\n",
    "import pandas as pd\n",
    "from sklearn.datasets import load_iris"
   ],
   "outputs": [],
   "execution_count": null
  },
  {
   "metadata": {},
   "cell_type": "code",
   "source": [
    "iris_dataset = load_iris()\n",
    "print(iris_dataset.keys())\n",
    "print(iris_dataset['target_names'])\n",
    "print(iris_dataset['target'])\n",
    "print(iris_dataset['feature_names'])\n"
   ],
   "id": "378951f925aaf98b",
   "outputs": [],
   "execution_count": null
  },
  {
   "metadata": {},
   "cell_type": "code",
   "source": [
    "from sklearn.model_selection import train_test_split\n",
    "from sklearn.neighbors import KNeighborsClassifier\n",
    "X_train, X_test, y_train, y_test = train_test_split(iris_dataset['data'], iris_dataset['target'], random_state=0)\n",
    "knn = KNeighborsClassifier(n_neighbors=1)\n",
    "knn.fit(X_train, y_train)\n",
    "y_pred = knn.predict(X_test)\n",
    "print(\"Test set predictions:\\n {}\".format(y_pred))\n",
    "mean = knn.score(X_test, y_test)\n",
    "print(\"Mean score: {}\".format(mean))"
   ],
   "id": "a324a85278d48e13",
   "outputs": [],
   "execution_count": null
  },
  {
   "metadata": {},
   "cell_type": "code",
   "source": [
    "print(X_train.shape)\n",
    "print(y_train.shape)"
   ],
   "id": "4fc658042303de7",
   "outputs": [],
   "execution_count": null
  },
  {
   "metadata": {},
   "cell_type": "code",
   "source": [
    "iris_dataframe = pd.DataFrame(X_train, columns=iris_dataset.feature_names)\n",
    "grr = pd.plotting.scatter_matrix(iris_dataframe, c=y_train, figsize=(15, 15), marker='o',hist_kwds={'bins': 20}, s=60, alpha=.8)\n"
   ],
   "id": "15c3fb238a0287ab",
   "outputs": [],
   "execution_count": null
  },
  {
   "metadata": {},
   "cell_type": "code",
   "source": "",
   "id": "ab206111c59798cf",
   "outputs": [],
   "execution_count": null
  },
  {
   "metadata": {},
   "cell_type": "code",
   "source": [
    "X_new = np.array([[5, 2.9, 1, 0.2]])\n",
    "print(\"X_new.shape: {}\".format(X_new.shape))\n",
    "\n",
    "\n",
    "prediction = knn.predict(X_new)\n",
    "print(\"Prediction: {}\".format(prediction))\n",
    "print(\"Predicted target name: {}\".format(iris_dataset['target_names'][prediction]))\n"
   ],
   "id": "6f117d345e08986",
   "outputs": [],
   "execution_count": null
  },
  {
   "metadata": {},
   "cell_type": "code",
   "source": "",
   "id": "b93ee65a9200c750",
   "outputs": [],
   "execution_count": null
  },
  {
   "metadata": {},
   "cell_type": "code",
   "source": "",
   "id": "d665f23f1e968358",
   "outputs": [],
   "execution_count": null
  },
  {
   "metadata": {},
   "cell_type": "code",
   "source": [
    "# 获取训练集数据\n",
    "print(iris_dataset.keys())\n",
    "\n",
    "print(iris_dataset['target_names'])\n",
    "\n",
    "\n"
   ],
   "id": "a675d936639060ed",
   "outputs": [],
   "execution_count": null
  },
  {
   "metadata": {},
   "cell_type": "code",
   "source": [
    "\n",
    "## bank \n",
    "train_data = pd.read_csv(\"./data/train.csv\")\n",
    "test_data = pd.read_csv(\"./data/test.csv\")\n",
    "submission = pd.read_csv(\"./data/submission.csv\")\n",
    "train_data.shape, test_data.shape, submission.shape\n",
    "train_data"
   ],
   "id": "b9fc5c2d80d6e054",
   "outputs": [],
   "execution_count": null
  },
  {
   "metadata": {},
   "cell_type": "code",
   "source": "test_data",
   "id": "5135986eceb25adc",
   "outputs": [],
   "execution_count": null
  },
  {
   "metadata": {},
   "cell_type": "code",
   "source": [
    "category_feature = [x for x in train_data.columns if train_data[x].dtype == 'object' and x != 'subscribe']\n",
    "numeric_feature = [x for x in train_data.columns if train_data[x].dtype != 'object']\n",
    "category_feature, numeric_feature"
   ],
   "id": "236a1eaf72bf9696",
   "outputs": [],
   "execution_count": null
  },
  {
   "metadata": {
    "ExecuteTime": {
     "end_time": "2025-09-16T08:49:36.490144Z",
     "start_time": "2025-09-16T08:49:36.436740Z"
    }
   },
   "cell_type": "code",
   "source": [
    "#train_data[category_feature].describe()\n",
    "train_data[numeric_feature].describe()\n",
    "train_data[numeric_feature].info()"
   ],
   "id": "fea7ffec8768345c",
   "outputs": [
    {
     "name": "stdout",
     "output_type": "stream",
     "text": [
      "<class 'pandas.core.frame.DataFrame'>\n",
      "RangeIndex: 22500 entries, 0 to 22499\n",
      "Data columns (total 11 columns):\n",
      " #   Column            Non-Null Count  Dtype  \n",
      "---  ------            --------------  -----  \n",
      " 0   id                22500 non-null  int64  \n",
      " 1   age               22500 non-null  int64  \n",
      " 2   duration          22500 non-null  int64  \n",
      " 3   campaign          22500 non-null  int64  \n",
      " 4   pdays             22500 non-null  int64  \n",
      " 5   previous          22500 non-null  int64  \n",
      " 6   emp_var_rate      22500 non-null  float64\n",
      " 7   cons_price_index  22500 non-null  float64\n",
      " 8   cons_conf_index   22500 non-null  float64\n",
      " 9   lending_rate3m    22500 non-null  float64\n",
      " 10  nr_employed       22500 non-null  float64\n",
      "dtypes: float64(5), int64(6)\n",
      "memory usage: 1.9 MB\n"
     ]
    }
   ],
   "execution_count": 24
  },
  {
   "metadata": {
    "ExecuteTime": {
     "end_time": "2025-09-16T08:52:15.381233Z",
     "start_time": "2025-09-16T08:52:15.310753Z"
    }
   },
   "cell_type": "code",
   "source": [
    "train_data[category_feature].describe()\n",
    "train_data[category_feature].info()"
   ],
   "id": "42f227af069aa1e1",
   "outputs": [
    {
     "name": "stdout",
     "output_type": "stream",
     "text": [
      "<class 'pandas.core.frame.DataFrame'>\n",
      "RangeIndex: 22500 entries, 0 to 22499\n",
      "Data columns (total 10 columns):\n",
      " #   Column       Non-Null Count  Dtype \n",
      "---  ------       --------------  ----- \n",
      " 0   job          22500 non-null  object\n",
      " 1   marital      22500 non-null  object\n",
      " 2   education    22500 non-null  object\n",
      " 3   default      22500 non-null  object\n",
      " 4   housing      22500 non-null  object\n",
      " 5   loan         22500 non-null  object\n",
      " 6   contact      22500 non-null  object\n",
      " 7   month        22500 non-null  object\n",
      " 8   day_of_week  22500 non-null  object\n",
      " 9   poutcome     22500 non-null  object\n",
      "dtypes: object(10)\n",
      "memory usage: 1.7+ MB\n"
     ]
    }
   ],
   "execution_count": 25
  },
  {
   "metadata": {},
   "cell_type": "code",
   "outputs": [],
   "execution_count": null,
   "source": "",
   "id": "8e7b90d465cba655"
  }
 ],
 "metadata": {
  "kernelspec": {
   "display_name": "Python (ml)",
   "language": "python",
   "name": "ml"
  },
  "language_info": {
   "codemirror_mode": {
    "name": "ipython",
    "version": 2
   },
   "file_extension": ".py",
   "mimetype": "text/x-python",
   "name": "python",
   "nbconvert_exporter": "python",
   "pygments_lexer": "ipython2",
   "version": "2.7.6"
  }
 },
 "nbformat": 4,
 "nbformat_minor": 5
}
